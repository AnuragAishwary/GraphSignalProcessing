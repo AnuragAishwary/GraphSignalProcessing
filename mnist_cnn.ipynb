{
 "cells": [
  {
   "cell_type": "code",
   "execution_count": 1,
   "id": "8e1ee50d",
   "metadata": {},
   "outputs": [
    {
     "name": "stdout",
     "output_type": "stream",
     "text": [
      "Epoch 1/10\n",
      "469/469 [==============================] - 25s 50ms/step - loss: 0.3054 - accuracy: 0.9075 - val_loss: 0.0612 - val_accuracy: 0.9815\n",
      "Epoch 2/10\n",
      "469/469 [==============================] - 24s 50ms/step - loss: 0.0957 - accuracy: 0.9720 - val_loss: 0.0421 - val_accuracy: 0.9867\n",
      "Epoch 3/10\n",
      "469/469 [==============================] - 24s 51ms/step - loss: 0.0727 - accuracy: 0.9784 - val_loss: 0.0356 - val_accuracy: 0.9881\n",
      "Epoch 4/10\n",
      "469/469 [==============================] - 25s 53ms/step - loss: 0.0565 - accuracy: 0.9833 - val_loss: 0.0302 - val_accuracy: 0.9905\n",
      "Epoch 5/10\n",
      "469/469 [==============================] - 25s 53ms/step - loss: 0.0506 - accuracy: 0.9846 - val_loss: 0.0314 - val_accuracy: 0.9902\n",
      "Epoch 6/10\n",
      "469/469 [==============================] - 24s 52ms/step - loss: 0.0421 - accuracy: 0.9873 - val_loss: 0.0263 - val_accuracy: 0.9910\n",
      "Epoch 7/10\n",
      "469/469 [==============================] - 24s 52ms/step - loss: 0.0391 - accuracy: 0.9882 - val_loss: 0.0265 - val_accuracy: 0.9908\n",
      "Epoch 8/10\n",
      "469/469 [==============================] - 24s 52ms/step - loss: 0.0336 - accuracy: 0.9892 - val_loss: 0.0234 - val_accuracy: 0.9919\n",
      "Epoch 9/10\n",
      "469/469 [==============================] - 25s 53ms/step - loss: 0.0306 - accuracy: 0.9902 - val_loss: 0.0227 - val_accuracy: 0.9928\n",
      "Epoch 10/10\n",
      "469/469 [==============================] - 25s 52ms/step - loss: 0.0280 - accuracy: 0.9913 - val_loss: 0.0227 - val_accuracy: 0.9929\n",
      "313/313 [==============================] - 2s 8ms/step - loss: 0.0227 - accuracy: 0.9929\n",
      "Test accuracy: 0.992900013923645\n"
     ]
    }
   ],
   "source": [
    "from tensorflow import keras\n",
    "from tensorflow.keras.models import Sequential\n",
    "from tensorflow.keras.layers import Conv2D, MaxPooling2D, Flatten, Dense, Dropout\n",
    "from tensorflow.keras.utils import to_categorical\n",
    "from tensorflow.keras.datasets import mnist\n",
    "import os\n",
    "\n",
    "num_classes = 10\n",
    "input_shape = (28, 28, 1)\n",
    "\n",
    "# Get the working directory path\n",
    "current_dir = os.getcwd()\n",
    "\n",
    "# Load the MNIST dataset and normalize the pixel values\n",
    "(x_train, y_train), (x_test, y_test) = mnist.load_data(path=current_dir + '/mnist.zip')\n",
    "x_train = x_train.reshape(-1, 28, 28, 1).astype('float32') / 255.0\n",
    "x_test = x_test.reshape(-1, 28, 28, 1).astype('float32') / 255.0\n",
    "\n",
    "y_train = to_categorical(y_train, num_classes)\n",
    "y_test = to_categorical(y_test, num_classes)\n",
    "\n",
    "model = Sequential()\n",
    "model.add(Conv2D(32, kernel_size=(3, 3), activation='relu', input_shape=input_shape))\n",
    "model.add(MaxPooling2D(pool_size=(2, 2)))\n",
    "model.add(Conv2D(64, kernel_size=(3, 3), activation='relu'))\n",
    "model.add(MaxPooling2D(pool_size=(2, 2)))\n",
    "model.add(Flatten())\n",
    "model.add(Dense(128, activation='relu'))\n",
    "model.add(Dropout(0.5))\n",
    "model.add(Dense(num_classes, activation='softmax'))\n",
    "\n",
    "model.compile(loss='categorical_crossentropy', optimizer='adam', metrics=['accuracy'])\n",
    "\n",
    "model.fit(x_train, y_train, epochs=10, batch_size=128, validation_data=(x_test, y_test))\n",
    "\n",
    "# Evaluate the model on the test data\n",
    "_, test_accuracy = model.evaluate(x_test, y_test)\n",
    "print(f'Test accuracy: {test_accuracy}')\n"
   ]
  },
  {
   "cell_type": "code",
   "execution_count": null,
   "id": "64a2b03d",
   "metadata": {},
   "outputs": [],
   "source": []
  },
  {
   "cell_type": "code",
   "execution_count": null,
   "id": "4290d97c",
   "metadata": {},
   "outputs": [],
   "source": []
  }
 ],
 "metadata": {
  "kernelspec": {
   "display_name": "Python 3 (ipykernel)",
   "language": "python",
   "name": "python3"
  },
  "language_info": {
   "codemirror_mode": {
    "name": "ipython",
    "version": 3
   },
   "file_extension": ".py",
   "mimetype": "text/x-python",
   "name": "python",
   "nbconvert_exporter": "python",
   "pygments_lexer": "ipython3",
   "version": "3.9.13"
  }
 },
 "nbformat": 4,
 "nbformat_minor": 5
}
