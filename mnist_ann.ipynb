{
 "cells": [
  {
   "cell_type": "code",
   "execution_count": 7,
   "id": "01ac6d37",
   "metadata": {},
   "outputs": [
    {
     "name": "stdout",
     "output_type": "stream",
     "text": [
      "Epoch 1/20\n",
      "469/469 [==============================] - 1s 2ms/step - loss: 0.7344 - accuracy: 0.7657 - val_loss: 0.2223 - val_accuracy: 0.9349\n",
      "Epoch 2/20\n",
      "469/469 [==============================] - 1s 2ms/step - loss: 0.3593 - accuracy: 0.8991 - val_loss: 0.1692 - val_accuracy: 0.9492\n",
      "Epoch 3/20\n",
      "469/469 [==============================] - 1s 2ms/step - loss: 0.2904 - accuracy: 0.9187 - val_loss: 0.1446 - val_accuracy: 0.9559\n",
      "Epoch 4/20\n",
      "469/469 [==============================] - 1s 2ms/step - loss: 0.2595 - accuracy: 0.9280 - val_loss: 0.1286 - val_accuracy: 0.9627\n",
      "Epoch 5/20\n",
      "469/469 [==============================] - 1s 2ms/step - loss: 0.2340 - accuracy: 0.9355 - val_loss: 0.1261 - val_accuracy: 0.9629\n",
      "Epoch 6/20\n",
      "469/469 [==============================] - 1s 2ms/step - loss: 0.2168 - accuracy: 0.9395 - val_loss: 0.1109 - val_accuracy: 0.9677\n",
      "Epoch 7/20\n",
      "469/469 [==============================] - 1s 2ms/step - loss: 0.2043 - accuracy: 0.9426 - val_loss: 0.1067 - val_accuracy: 0.9702\n",
      "Epoch 8/20\n",
      "469/469 [==============================] - 1s 2ms/step - loss: 0.1944 - accuracy: 0.9449 - val_loss: 0.1009 - val_accuracy: 0.9699\n",
      "Epoch 9/20\n",
      "469/469 [==============================] - 1s 2ms/step - loss: 0.1865 - accuracy: 0.9482 - val_loss: 0.1014 - val_accuracy: 0.9707\n",
      "Epoch 10/20\n",
      "469/469 [==============================] - 1s 2ms/step - loss: 0.1768 - accuracy: 0.9491 - val_loss: 0.1020 - val_accuracy: 0.9705\n",
      "Epoch 11/20\n",
      "469/469 [==============================] - 1s 2ms/step - loss: 0.1690 - accuracy: 0.9522 - val_loss: 0.0979 - val_accuracy: 0.9716\n",
      "Epoch 12/20\n",
      "469/469 [==============================] - 1s 2ms/step - loss: 0.1683 - accuracy: 0.9519 - val_loss: 0.0950 - val_accuracy: 0.9728\n",
      "Epoch 13/20\n",
      "469/469 [==============================] - 1s 2ms/step - loss: 0.1645 - accuracy: 0.9537 - val_loss: 0.0945 - val_accuracy: 0.9734\n",
      "Epoch 14/20\n",
      "469/469 [==============================] - 1s 2ms/step - loss: 0.1544 - accuracy: 0.9564 - val_loss: 0.0939 - val_accuracy: 0.9740\n",
      "Epoch 15/20\n",
      "469/469 [==============================] - 1s 2ms/step - loss: 0.1510 - accuracy: 0.9560 - val_loss: 0.0909 - val_accuracy: 0.9741\n",
      "Epoch 16/20\n",
      "469/469 [==============================] - 1s 2ms/step - loss: 0.1494 - accuracy: 0.9575 - val_loss: 0.0937 - val_accuracy: 0.9749\n",
      "Epoch 17/20\n",
      "469/469 [==============================] - 1s 2ms/step - loss: 0.1481 - accuracy: 0.9575 - val_loss: 0.0926 - val_accuracy: 0.9738\n",
      "Epoch 18/20\n",
      "469/469 [==============================] - 1s 2ms/step - loss: 0.1446 - accuracy: 0.9586 - val_loss: 0.0907 - val_accuracy: 0.9740\n",
      "Epoch 19/20\n",
      "469/469 [==============================] - 1s 2ms/step - loss: 0.1417 - accuracy: 0.9592 - val_loss: 0.0932 - val_accuracy: 0.9738\n",
      "Epoch 20/20\n",
      "469/469 [==============================] - 1s 2ms/step - loss: 0.1404 - accuracy: 0.9590 - val_loss: 0.0886 - val_accuracy: 0.9752\n",
      "313/313 [==============================] - 0s 635us/step - loss: 0.0886 - accuracy: 0.9752\n",
      "Test accuracy: [0.08864011615514755, 0.9751999974250793]\n"
     ]
    }
   ],
   "source": [
    "from tensorflow import keras\n",
    "from tensorflow.keras.models import Sequential\n",
    "from tensorflow.keras.layers import Dropout, Flatten, Dense\n",
    "from tensorflow.keras.utils import to_categorical\n",
    "from tensorflow.keras.datasets import mnist\n",
    "import os\n",
    "\n",
    "num_classes = 10\n",
    "input_shape = (28, 28, 1)\n",
    "\n",
    "# Get the working directory path\n",
    "current_dir = os.getcwd()\n",
    "\n",
    "# Load the MNIST dataset and normalize the pixel values\n",
    "(x_train, y_train), (x_test, y_test) = mnist.load_data(path=current_dir + '/mnist.zip')\n",
    "x_train = x_train.astype('float32') / 255.0\n",
    "x_test = x_test.astype('float32') / 255.0\n",
    "\n",
    "y_train = keras.utils.to_categorical(y_train, num_classes)\n",
    "y_test = keras.utils.to_categorical(y_test, num_classes)\n",
    "\n",
    "model = Sequential()\n",
    "model.add(Flatten(input_shape=(28, 28)))\n",
    "model.add(Dense(128, activation='relu'))  # Increased complexity with 128 neurons\n",
    "model.add(Dropout(0.5))  # Dropout for regularization\n",
    "model.add(Dense(64, activation='relu'))   # Another hidden layer with 64 neurons\n",
    "model.add(Dropout(0.5))  # Dropout for regularization\n",
    "model.add(Dense(num_classes, activation='softmax'))\n",
    "\n",
    "model.compile(loss='categorical_crossentropy', optimizer='adam', metrics=['accuracy'])\n",
    "\n",
    "model.fit(x_train, y_train, epochs=20, batch_size=128, validation_data=(x_test, y_test))\n",
    "\n",
    "# Evaluate the model on the test data\n",
    "test_accuracy = model.evaluate(x_test, y_test)\n",
    "print(f'Test accuracy: {test_accuracy}')"
   ]
  },
  {
   "cell_type": "code",
   "execution_count": null,
   "id": "ef389194",
   "metadata": {},
   "outputs": [],
   "source": []
  }
 ],
 "metadata": {
  "kernelspec": {
   "display_name": "Python 3 (ipykernel)",
   "language": "python",
   "name": "python3"
  },
  "language_info": {
   "codemirror_mode": {
    "name": "ipython",
    "version": 3
   },
   "file_extension": ".py",
   "mimetype": "text/x-python",
   "name": "python",
   "nbconvert_exporter": "python",
   "pygments_lexer": "ipython3",
   "version": "3.10.9"
  }
 },
 "nbformat": 4,
 "nbformat_minor": 5
}
